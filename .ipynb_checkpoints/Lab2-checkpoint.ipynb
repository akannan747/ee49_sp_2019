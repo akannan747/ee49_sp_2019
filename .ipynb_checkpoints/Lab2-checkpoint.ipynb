{
 "cells": [
  {
   "cell_type": "code",
   "execution_count": null,
   "metadata": {},
   "outputs": [],
   "source": [
    "from machine import Pin\n",
    "from board import LED\n",
    "import time\n",
    "\n",
    "led = Pin(LED, mode=Pin.OUT)\n",
    "\n",
    "def blink():\n",
    "    while True:\n",
    "        led(1)\n",
    "        time.sleep(.666)\n",
    "        led(0)\n",
    "        time.sleep(.666)"
   ]
  }
 ],
 "metadata": {
  "kernelspec": {
   "display_name": "Python 3",
   "language": "python",
   "name": "python3"
  },
  "language_info": {
   "codemirror_mode": {
    "name": "ipython",
    "version": 3
   },
   "file_extension": ".py",
   "mimetype": "text/x-python",
   "name": "python",
   "nbconvert_exporter": "python",
   "pygments_lexer": "ipython3",
   "version": "3.7.1"
  }
 },
 "nbformat": 4,
 "nbformat_minor": 2
}
