{
 "cells": [
  {
   "cell_type": "markdown",
   "metadata": {},
   "source": [
    "1.1 - Read the lab power supply instructions\n",
    "\n",
    "1.2 - See ada.py page\n",
    "\n",
    "1.3 - See harvest.py page\n",
    "\n",
    "1.4.1 - See sleep.py page\n",
    "\n",
    "1.4.2 - See scanned page\n",
    "\n",
    "1.5 - See scanned page"
   ]
  }
 ],
 "metadata": {
  "kernelspec": {
   "display_name": "Python 3",
   "language": "python",
   "name": "python3"
  },
  "language_info": {
   "codemirror_mode": {
    "name": "ipython",
    "version": 3
   },
   "file_extension": ".py",
   "mimetype": "text/x-python",
   "name": "python",
   "nbconvert_exporter": "python",
   "pygments_lexer": "ipython3",
   "version": "3.7.1"
  }
 },
 "nbformat": 4,
 "nbformat_minor": 2
}
