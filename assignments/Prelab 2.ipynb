{
 "cells": [
  {
   "cell_type": "markdown",
   "metadata": {},
   "source": [
    "1. Board specifications"
   ]
  },
  {
   "cell_type": "markdown",
   "metadata": {},
   "source": [
    "Clock rate - 140 MHz\n",
    "\n",
    "Flash memory - 4 MB\n",
    "\n",
    "SRAM - 520 KB\n",
    "\n",
    "Max voltage on logic pin - 3.3V "
   ]
  },
  {
   "cell_type": "markdown",
   "metadata": {},
   "source": [
    "2. INA"
   ]
  },
  {
   "cell_type": "markdown",
   "metadata": {},
   "source": [
    "What is the “Absolute maximum rating” of the supply voltage? \n",
    "\n",
    "6V\n",
    "\n",
    "What is the power supply operating range? \n",
    "\n",
    "3V to 5.5V\n",
    "\n",
    "What is the minimum storage temperature? \n",
    "\n",
    "-65 degrees Celsius\n",
    "\n",
    "What is the maximum ADC conversion time for 11-Bit accuracy? \n",
    "\n",
    "304 microseconds\n",
    "\n",
    "What is the maximum quiescent power supply current? \n",
    "\n",
    "1 mA\n",
    "\n",
    "By what factor does the maximum supply current decrease if the device is put into power-down mode? \n",
    "\n",
    "from 1 mA to 15 micro amps, 66.667 times less\n",
    "\n",
    "What is the range of I2C addresses for which the INA219 can be configured? State your answer as decimal numbers! \n",
    "\n",
    "From 64 to 79.\n",
    "\n",
    "What is the ESD rating of the pins of the INA219 for the human body model?\n",
    "\n",
    "+/- 4000 V"
   ]
  },
  {
   "cell_type": "markdown",
   "metadata": {},
   "source": [
    "What is the value of the current sensing resistor on the board? \n",
    "\n",
    "0.1 Ohms\n",
    "\n",
    "What is the maximum current that can be measured?\n",
    "\n",
    "3.2 Amps\n",
    "\n",
    "What is the current resolution in 12-Bit ADC mode? \n",
    "\n",
    "0.8 mA\n",
    "\n",
    "What current sensing resistor value is required for a ±8A maximum current range?\n",
    "\n",
    "0.01 Ohms"
   ]
  },
  {
   "cell_type": "markdown",
   "metadata": {},
   "source": [
    "Program to alternate LED LIGHT"
   ]
  },
  {
   "cell_type": "code",
   "execution_count": null,
   "metadata": {},
   "outputs": [],
   "source": [
    "from machine import Pin\n",
    "from board import LED\n",
    "import time\n",
    "\n",
    "led = Pin(LED, mode=Pin.OUT)\n",
    "\n",
    "def blink():\n",
    "    while True:\n",
    "        led(1)\n",
    "        time.sleep(.666)\n",
    "        led(0)\n",
    "        time.sleep(.666)\n",
    "\n"
   ]
  }
 ],
 "metadata": {
  "kernelspec": {
   "display_name": "Python 3",
   "language": "python",
   "name": "python3"
  },
  "language_info": {
   "codemirror_mode": {
    "name": "ipython",
    "version": 3
   },
   "file_extension": ".py",
   "mimetype": "text/x-python",
   "name": "python",
   "nbconvert_exporter": "python",
   "pygments_lexer": "ipython3",
   "version": "3.7.1"
  }
 },
 "nbformat": 4,
 "nbformat_minor": 2
}
